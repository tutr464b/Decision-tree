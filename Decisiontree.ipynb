{
  "nbformat": 4,
  "nbformat_minor": 0,
  "metadata": {
    "colab": {
      "name": "Decisiontree.ipynb",
      "provenance": [],
      "authorship_tag": "ABX9TyM9GrAt/BLf08LDv3ZdZB6V",
      "include_colab_link": true
    },
    "kernelspec": {
      "name": "python3",
      "display_name": "Python 3"
    },
    "language_info": {
      "name": "python"
    }
  },
  "cells": [
    {
      "cell_type": "markdown",
      "metadata": {
        "id": "view-in-github",
        "colab_type": "text"
      },
      "source": [
        "<a href=\"https://colab.research.google.com/github/tutr464b/Decision-tree/blob/main/Decisiontree.ipynb\" target=\"_parent\"><img src=\"https://colab.research.google.com/assets/colab-badge.svg\" alt=\"Open In Colab\"/></a>"
      ]
    },
    {
      "cell_type": "code",
      "execution_count": 1,
      "metadata": {
        "colab": {
          "base_uri": "https://localhost:8080/"
        },
        "id": "c-ky3f3sx2g2",
        "outputId": "02b53539-0016-4836-dbf8-efda6e9bb7cb"
      },
      "outputs": [
        {
          "output_type": "stream",
          "name": "stdout",
          "text": [
            "Overal there are 12 examples.\n",
            "\n",
            "Decision tree for examples  [0, 2, 2, 3, 3, 3, 3, 6, 9, 9, 9, 11]\n",
            "if Type==Thai:\n",
            "   Wait=Yes\n",
            "if Type==Burger:\n",
            "   if Patrons==None:\n",
            "      Wait=No\n",
            "   if Patrons==Some:\n",
            "      Wait=Yes\n",
            "   if Patrons==Full:\n",
            "      Wait=Yes\n",
            "if Type==Italian:\n",
            "   Wait=No\n",
            "if Type==French:\n",
            "   Wait=Yes\n",
            "\n",
            "Decision tree for examples  [2, 2, 2, 3, 3, 4, 4, 5, 5, 6, 8, 10]\n",
            "if Patrons==Some:\n",
            "   Wait=Yes\n",
            "if Patrons==Full:\n",
            "   if Hungry==Yes:\n",
            "      Wait=Yes\n",
            "   if Hungry==No:\n",
            "      Wait=No\n",
            "if Patrons==None:\n",
            "   Wait=No\n",
            "\n",
            "Decision tree for examples  [3, 3, 3, 4, 4, 5, 5, 6, 8, 10, 10, 10]\n",
            "if Hungry==No:\n",
            "   Wait=No\n",
            "if Hungry==Yes:\n",
            "   Wait=Yes\n"
          ]
        }
      ],
      "source": [
        "from collections import defaultdict\n",
        "from math import log\n",
        "\n",
        "data = [\n",
        "[\"NearbyAlternative\",  \"Bar\",  \"Friday/Saturday\",  \"Hungry\",  \"Patrons\",   \"Price\",  \"Rain\",  \"Reservation\",  \"Type\",     \"Estimated Wait\",    \"Wait\"],\n",
        "#\"Alt\",  \"Bar\",  \"Fri\",  \"Hun\",  \"Pat\",   \"Price\",  \"Rain\",  \"Res\",  \"Type\",     \"Est\",    \"Wait\"],\n",
        "[\"Yes\",  \"No\",   \"No\",   \"Yes\",  \"Some\",  \"$$$\",    \"No\",    \"Yes\",  \"French\",   \"0-10\",   \"Yes\"],\n",
        "[\"Yes\",  \"No\",   \"No\",   \"Yes\",  \"Full\",  \"$\",      \"No\",    \"No\",   \"Thai\",     \"30-60\",  \"No\"],\n",
        "[\"No\",   \"Yes\",  \"No\",   \"No\",   \"Some\",  \"$\",      \"No\",    \"No\",   \"Burger\",   \"0-10\",   \"Yes\"],\n",
        "[\"Yes\",  \"No\",   \"Yes\",  \"Yes\",  \"Full\",  \"$\",      \"No\",    \"No\",   \"Thai\",     \"10-30\",  \"Yes\"],\n",
        "[\"Yes\",  \"No\",   \"Yes\",  \"No\",   \"Full\",  \"$$$\",    \"No\",    \"Yes\",  \"French\",   \">60\",    \"No\"],\n",
        "[\"No\",   \"Yes\",  \"No\",   \"Yes\",  \"Some\",  \"$$\",     \"Yes\",   \"Yes\",  \"Italian\",  \"0-10\",   \"Yes\"],\n",
        "[\"No\",   \"Yes\",  \"No\",   \"No\",   \"None\",  \"$\",      \"Yes\",   \"No\",   \"Burger\",   \"0-10\",   \"No\"],\n",
        "[\"No\",   \"No\",   \"No\",   \"Yes\",  \"Some\",  \"$$\",     \"Yes\",   \"Yes\",  \"Thai\",     \"0-10\",   \"Yes\"],\n",
        "[\"No\",   \"Yes\",  \"Yes\",  \"No\",   \"Full\",  \"$\",      \"Yes\",   \"No\",   \"Burger\",   \">60\",    \"No\"],\n",
        "[\"Yes\",  \"Yes\",  \"Yes\",  \"Yes\",  \"Full\",  \"$$$\",    \"No\",    \"Yes\",  \"Italian\",  \"10-30\",  \"No\"],\n",
        "[\"No\",   \"No\",   \"No\",   \"No\",   \"None\",  \"$\",      \"No\",    \"No\",   \"Thai\",     \"0-10\",   \"No\"],\n",
        "[\"Yes\",  \"Yes\",  \"Yes\",  \"Yes\",  \"Full\",  \"$\",      \"No\",    \"No\",   \"Burger\",   \"30-60\",  \"Yes\"]\n",
        "]\n",
        "\n",
        "header = data[0] # header from data\n",
        "data = data[1:]      # remove header from data\n",
        "\n",
        "def entropy(labels):\n",
        "  probabilities = [labels.count(label) / len(labels) for label in set(labels)]\n",
        "  return -sum([probability*log(probability,2) for probability in probabilities])\n",
        "    \n",
        "def information_gain(examples, attribute):\n",
        "  labels = [data[example][-1] for example in examples] # data[example][-1] is the label of example\n",
        "  values = set([data[example][attribute] for example in examples]) # all values for a given attribute\n",
        "  value2labels = defaultdict(list)\n",
        "  for example in examples:\n",
        "    value2labels[data[example][attribute]].append(data[example][-1])\n",
        "  return entropy(labels) - sum([len(labels_i) / len(labels) * entropy(labels_i) for labels_i in value2labels.values()])\n",
        "\n",
        "def separate(examples, attribute):\n",
        "  values = set([data[example][attribute] for example in examples])\n",
        "  pairs = [(data[example][attribute], example) for example in examples]\n",
        "  value2examples = defaultdict(list)\n",
        "  for (value, index) in pairs:\n",
        "    value2examples[value].append(index)\n",
        "  return value2examples\n",
        "\n",
        "def question(examples, indent):\n",
        "  if entropy([data[example][-1] for example in examples]) == 0.0:\n",
        "    print(\" \"*indent + header[-1]+\"=\"+data[examples[0]][-1])\n",
        "  else:\n",
        "    attributes = range(len(header)-1)\n",
        "    best = max(attributes, key=lambda attribute: information_gain(examples, attribute))\n",
        "    value2examples = separate(examples, best)\n",
        "    for (value, examples4value) in value2examples.items():\n",
        "      print(\" \"*indent + \"if \"+header[best]+\"==\"+value+\":\")\n",
        "      question(examples4value, indent+3)\n",
        "\n",
        "examples = range(len(data))\n",
        "\n",
        "import random\n",
        "print(\"Overal there are %d examples.\"%len(data))\n",
        "for bootstrap in range(3):\n",
        "  subset = random.choices(examples,k=int(1.0*len(examples)))\n",
        "  print()\n",
        "  print(\"Decision tree for examples \", sorted(subset))\n",
        "  question(subset,0)"
      ]
    }
  ]
}